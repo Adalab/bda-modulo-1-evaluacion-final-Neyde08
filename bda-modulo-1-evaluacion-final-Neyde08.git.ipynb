{
 "cells": [
  {
   "cell_type": "markdown",
   "metadata": {},
   "source": [
    "#  Evaluación Final Módulo 1 Data Analytics"
   ]
  },
  {
   "cell_type": "markdown",
   "metadata": {},
   "source": [
    "##### A lo largo de esta evaluación tendrás que crear una clase llamada TiendaOnline que cumpla los siguientes requisitos:\n",
    "##### La clase TiendaOnline, debe tener los siguientes atributos:\n",
    "##### inventario(lista de diccionarios): Un atributo para almacenar los productos en el inventario.\n",
    "##### Cada producto debe ser representado como un diccionario con las siguientes claves:'nombre', 'precio', y 'cantidad'. Al principio deberá ser una lista vacía. Ejemplo de como debería ser: [{'nombre': 'Camisa', 'precio': 20, 'cantidad': 40}, {'nombre': 'Pantalón', 'precio': 30, 'cantidad': 30}] "
   ]
  },
  {
   "cell_type": "code",
   "execution_count": 65,
   "metadata": {},
   "outputs": [],
   "source": [
    "class TiendaOnline:\n",
    "    def __init__(self, nombre_tienda):\n",
    "        self.nombre_tienda = nombre_tienda  # Guardamos el nombre de la tienda\n",
    "        self.inventario = []  # Lista vacía para el inventario\n",
    "        self.ventas_totales = 0.0  # Inicializamos las ventas totales en 0\n",
    "\n",
    "    def agregar_producto(self, nombre, precio, cantidad):\n",
    "        # Iteramos sobre el inventario\n",
    "        for producto in self.inventario:\n",
    "            if producto['nombre'] == nombre:  # Comparamos el nombre del producto\n",
    "                # Si ya existe, actualizamos la cantidad\n",
    "                producto['cantidad'] += cantidad\n",
    "                print(f\"Producto existente: se actualizaron {cantidad} unidades de '{nombre}'.\")\n",
    "                return\n",
    "\n",
    "        # Si no existe, lo agregamos como un nuevo producto\n",
    "        nuevo_producto = {'nombre': nombre, 'precio': precio, 'cantidad': cantidad}\n",
    "        self.inventario.append(nuevo_producto)\n",
    "        print(f\"Producto nuevo agregado: {nuevo_producto}\")\n",
    "\n",
    "    def mostrar_inventario(self):\n",
    "        print(\"Inventario actual:\")\n",
    "        for producto in self.inventario:\n",
    "            print(f\"Nombre: {producto['nombre']}, Precio: ${producto['precio']}, Cantidad: {producto['cantidad']}\")\n",
    "    \n",
    "    def buscar_producto(self, nombre):\n",
    "        for producto in self.inventario:\n",
    "            if producto['nombre'] == nombre:\n",
    "                print(f\"Nombre: {producto['nombre']}, Precio: ${producto['precio']}, Cantidad: {producto['cantidad']}\")\n",
    "                return\n",
    "        print(f\"El producto '{nombre}' no se encuentra en el inventario.\")\n",
    "\n",
    "    def actualizar_stock(self, nombre, cantidad):\n",
    "        # Iteramos sobre el inventario\n",
    "        for producto in self.inventario:\n",
    "            if producto['nombre'] == nombre:  # Comparamos el nombre del producto\n",
    "                producto['cantidad'] += cantidad\n",
    "                print(f\"Stock actualizado: {producto['cantidad']} unidades de '{nombre}'.\")\n",
    "                return\n",
    "        print(f\"El producto '{nombre}' no se encuentra en el inventario.\")\n",
    "\n",
    "    def eliminar_producto(self, nombre):\n",
    "        # Iteramos sobre el inventario\n",
    "        for producto in self.inventario:\n",
    "            if producto['nombre'] == nombre:\n",
    "                self.inventario.remove(producto)\n",
    "                print(f\"Producto '{nombre}' eliminado del inventario.\")\n",
    "                return\n",
    "        print(f\"El producto '{nombre}' no se encuentra en el inventario.\")\n",
    "\n",
    "    def calcular_valor_inventario(self):\n",
    "        self.ventas_totales = 0.0\n",
    "        for producto in self.inventario:\n",
    "            self.ventas_totales += producto['precio'] * producto['cantidad']\n",
    "        print(f\"Valor total del inventario: ${self.ventas_totales}\") "
   ]
  },
  {
   "cell_type": "code",
   "execution_count": 66,
   "metadata": {},
   "outputs": [
    {
     "name": "stdout",
     "output_type": "stream",
     "text": [
      "Producto nuevo agregado: {'nombre': 'camisa', 'precio': 20.65, 'cantidad': 20}\n",
      "Producto nuevo agregado: {'nombre': 'pantalón', 'precio': 15, 'cantidad': 30}\n",
      "Producto nuevo agregado: {'nombre': 'camisa xs', 'precio': 18, 'cantidad': 40}\n",
      "Producto nuevo agregado: {'nombre': 'camiseta', 'precio': 12.99, 'cantidad': 40}\n",
      "Producto nuevo agregado: {'nombre': 'falda', 'precio': 19.99, 'cantidad': 80}\n",
      "Producto nuevo agregado: {'nombre': 'zapatilla', 'precio': 38, 'cantidad': 28}\n",
      "Producto nuevo agregado: {'nombre': 'media', 'precio': 20, 'cantidad': 40}\n",
      "Producto nuevo agregado: {'nombre': 'vestido', 'precio': 29.99, 'cantidad': 30}\n",
      "Inventario actual:\n",
      "Nombre: camisa, Precio: $20.65, Cantidad: 20\n",
      "Nombre: pantalón, Precio: $15, Cantidad: 30\n",
      "Nombre: camisa xs, Precio: $18, Cantidad: 40\n",
      "Nombre: camiseta, Precio: $12.99, Cantidad: 40\n",
      "Nombre: falda, Precio: $19.99, Cantidad: 80\n",
      "Nombre: zapatilla, Precio: $38, Cantidad: 28\n",
      "Nombre: media, Precio: $20, Cantidad: 40\n",
      "Nombre: vestido, Precio: $29.99, Cantidad: 30\n",
      "Nombre: pantalón, Precio: $15, Cantidad: 30\n",
      "Stock actualizado: 240 unidades de 'media'.\n",
      "Producto 'media' eliminado del inventario.\n",
      "Valor total del inventario: $5665.499999999999\n",
      "Valor total del inventario: $5665.499999999999\n",
      "Valor total del inventario: $5665.499999999999\n"
     ]
    }
   ],
   "source": [
    "tienda_mango = TiendaOnline(\"mango\")\n",
    "tienda_mango.agregar_producto(\"camisa\", 20.65, 20)\n",
    "tienda_mango.agregar_producto(\"pantalón\", 15, 30)\n",
    "tienda_mango.agregar_producto(\"camisa xs\", 18, 40)\n",
    "tienda_mango.agregar_producto(\"camiseta\", 12.99, 40)\n",
    "tienda_mango.agregar_producto(\"falda\", 19.99, 80)\n",
    "tienda_mango.agregar_producto(\"zapatilla\", 38, 28)\n",
    "tienda_mango.agregar_producto(\"media\", 20, 40)\n",
    "tienda_mango.agregar_producto(\"vestido\", 29.99, 30)\n",
    "tienda_mango.mostrar_inventario()\n",
    "tienda_mango.buscar_producto(\"pantalón\")\n",
    "tienda_mango.actualizar_stock(\"media\",200)\n",
    "tienda_mango.eliminar_producto(\"media\")\n",
    "tienda_mango.calcular_valor_inventario()\n",
    "tienda_mango.calcular_valor_inventario()\n",
    "tienda_mango.calcular_valor_inventario()"
   ]
  }
 ],
 "metadata": {
  "kernelspec": {
   "display_name": "base",
   "language": "python",
   "name": "python3"
  },
  "language_info": {
   "codemirror_mode": {
    "name": "ipython",
    "version": 3
   },
   "file_extension": ".py",
   "mimetype": "text/x-python",
   "name": "python",
   "nbconvert_exporter": "python",
   "pygments_lexer": "ipython3",
   "version": "3.12.7"
  }
 },
 "nbformat": 4,
 "nbformat_minor": 2
}
